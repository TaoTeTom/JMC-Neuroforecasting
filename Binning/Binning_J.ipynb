{
 "cells": [
  {
   "cell_type": "code",
   "execution_count": 72,
   "metadata": {},
   "outputs": [],
   "source": [
    "import pandas as pd\n",
    "import numpy as np\n",
    "import re\n",
    "from Binning_helper import get_unique_from_column\n",
    "import os"
   ]
  },
  {
   "cell_type": "code",
   "execution_count": 46,
   "metadata": {},
   "outputs": [],
   "source": [
    "data = pd.read_excel(r\"C:\\Users\\15the\\OneDrive - California Institute of Technology\\Selenium_JMC\\Candidates_SchoolRank_InterviewOffers.xlsx\",\n",
    " sheet_name='Top 50', engine='openpyxl')"
   ]
  },
  {
   "cell_type": "code",
   "execution_count": 53,
   "metadata": {},
   "outputs": [
    {
     "name": "stdout",
     "output_type": "stream",
     "text": [
      "{' Contract Theory', 'Immigration', 'Labor/Population', 'Digital Economics', 'Economics of Uncertainty', 'Public', 'Demographic Economics and Macroeconomics', ' Household', 'Agricultural Economics', 'Behavioral Economics,', ' Political Economy', 'Macro-finance', 'International', 'microeconomic theory', 'Quantitative Economics', 'Sustainable Investing', 'Heterogeneous-agent macroeconomics', 'Applied Machine Learning', 'mechanism design', 'Law & Economics', 'Finance ', 'Financial Institutions', 'monetary economics', ' Environmental Economics', 'Data Economics', 'Forecasting', ' Growth and Innovation', 'Theo Eicher', 'Market Design', 'Education', 'Macroeconomics and Banking', 'Time Series', 'Asset Pricing', 'Farm Management', 'Climate Change and Macroeconomy', 'Empirical Industrial', 'International Trade and Globalization', 'Empirical finance', 'Quantile Methods', 'Climate Econometrics', 'Algorithmic Pricing', 'Labor and Macroeconomics', 'Microeconomics', 'Experimental', 'Behavioral Economics ', 'Applied Microeconomics,\\xa0Public Economics', 'Personnel Economics', 'Applied Microeconomic Theory (Decision Theory)', 'Empirical IO', 'Theory Behavioral', 'International macro/finance', 'Conservation Adoption', 'Migration', 'Microeconomic Theory', 'Demographic Economics', 'Econometric Theory', 'Family Policy', 'Development', 'Law and Economics', 'Development Economic', 'Monetary Policy', 'Regulation & Market Design', 'Political Theory', ' Firm Dynamics', 'Spatial Econometrics', 'Micro Theory', 'Environmental and Natural Resource', 'Applied Econometrics', 'Public Economics', 'Transportation', 'Agriculture and Natural Resource Economics', 'Migration ', 'Health and Education', 'International trade', 'Issariya Sirichakwal', 'Micro theory', 'Game theory', 'Firm Dynamics Economic Growth and Innovation', 'Empirical Macroeconomics', 'Healthcare Economics', 'Wealth and Income Inequality', 'Behavioral Macroeconomics', 'Public Economics\\nHousehold Finance', ' Health', 'Trade', 'Macroeconomic Theory', 'Adolescent Development', 'Environmental and Natural Resource Economics', 'Mechanism and Market Design', 'Applied Macroeconomics', 'Financial Networks', 'Latent Variable Models', 'Macro Finance', 'Evolutionary Game Theory', 'Firm dynamics', 'Causal Inference', 'Machine Learning', 'Housing', 'Mechanism Design', 'Industrial Organization\\xa0', 'Behavioural Economics', 'Economics of Organizations', 'Microeconometrics', 'Environmental', 'High-Dimensional Econometrics', ' Applied Econometrics', ' Labor Economics', 'Quantitative Macroeconomics', 'Applied Micro', 'Economics of Innovation', ' Growth and Development', 'Labor and Personnel Economics', 'Environmental and Energy Economics', 'Data Science', 'Industrial Organization and Applied Econometrics', 'Monetary Economics ', 'Behavioral & Experimental Economics', 'Climate Change', 'Education Policy', 'Organizational Economic', 'Industrial Organizations', 'Econometrics and Finance', 'Structural Econometrics', 'Behavioral', 'Gender & Family Economics', 'Information Economics', 'Macroeconomics\\xa0', 'Mechanism design', 'Economic Growth and Development', 'Labor economics', 'Behavioral and Experimental Economics', 'Monetary Economic', 'Theoretical Econometrics and Industrial Organization', 'Economics of Gender', 'Science and Technology Policy', 'Economics of Crime', 'Experimental and Behavioral Economics', 'Children and Families', 'Growth and Development', ' Demography', 'Public Demographic Economics', 'Psychology and Economics', 'Time Series Econometrics', 'Household Finance', 'Macroeconomic Development', 'Organisational Economics', 'International Finance', 'Search and Exploration', ' Growth  Firm Dynamics', ' International Finance', 'optimal transportation and majorization methods', ' Mathematical Economics', 'Labor', 'Gender and Family Economics', 'Financial Intermediation', 'Environment and Natural Resource Economics', 'Growth', 'Economics of Crime and Political Economy', 'Matching Theory', 'causal inference', 'Technology Management', 'International Trad', 'Education Economics', 'Political Economy', ' Information Economics', 'Microeconomic Theory - Communication and Information', 'Energy Economics', 'Microeconomic Theory - Mechanism and Information Design', 'Computational Economics', ' Cultural Economics', 'Public/ Labor Economics', 'Behavioral Economics', 'Real Estate Economics', 'Family Economics', 'Imperfect competition', 'Political Economy of China', 'Experimental/Behavioral Economics', 'Network', 'Spatial', 'Macro-Development', 'Derivatives', 'Applied Economics', 'fair division', 'Development and Growth', 'Macroeconomics ', 'Real Estate', 'Labor Economics', 'Innovation', 'Economic Geography', 'Agent Based Simulations', 'Energy and Environmental Economics', 'International Macro Finance', 'Public and Environmental Economics', 'Behavioral and Experimental Economic', 'Economics of Educatio', 'Development Economics ', 'Gender', 'Environmental and Energy economics', 'Monetary Policy ', 'Monetary Economics', 'Networks', 'Gender and Development', 'Value-Added Agriculture', 'Quantitative Marketing', 'Technology Adoption', 'Applied microeconometrics', 'Decision Theory', 'Tax policy', 'Microeconomic Theory and Political Economy', 'Neuroeconomics', 'Agricultural Policy', 'Conflict', 'International Business', 'Applied Micro-Econometrics', ' Urban Economics', 'Search and matching', 'Political Economy and Public Economics', '\\nFinance', 'Bayesian Econometrics.', 'household expectations', 'Fabio Ghironi', 'Contracts and Organizations', 'algorithmic economics', 'Development economics', 'Geography/ Trade', 'Entreprenuership', 'Political Econom', 'Urban and Spatial Economics', 'Real Estate Finance', 'Behavioral Finance', 'Game Theory', 'Aggregate Productivity', 'Food Assistance Policy', 'Development Economics and Applied Econometrics', 'Economic History', 'Economics of Inequality', 'Public Finance', ' Growth', 'Socioeconomics (Quantitative)', 'Public Policy', 'Environmental Economics\\nAgricultural and Resource Economics', 'Gender Economic', 'Gender Economics', 'Economics of Digitization', 'Economics of Population', 'Theory', 'Entrepreneurship', 'Climate change finance', 'Applied Microeconomic', 'Urban', 'Inequality', 'Firm Dynamics', 'Migration Economics', 'Early Childhood Development', 'Dynamic industrial organization', 'Behavioral/Experimental Economics', 'Information theory', 'Macroeconomics', 'Public Economics and Labor Economics', 'Econometrics', 'international economics ', 'Financial Frictions', 'meta-analysis', 'Development Economics and Political Economy', 'Experimental Economics', 'behavioral macroeconomics', 'Nonlinear State-Space Methods', 'Industrial Organization ', ' Econometric Theory', 'Urban Economics', 'Monetary and Fiscal Policy', 'Energy & Environmental Economics', 'Behavioral/Experimental', 'Household Economics', 'Food Insecurity', 'Housing Economics', 'Urban and Regional Economics', 'Development/ Macro', 'Spatial Econometrics: Theory and Applications', 'Macroeconometrics', 'Economics of Education', 'Formal Political Theory', 'Applied Microecnomics', 'Entrepreneurship ', 'Environmental and Resource Economics', 'Applied Econometrics\\n', 'Empirical Industrial Organization', 'Political Economy ', 'Applied Microeconometrics', 'Regional Development', 'Jennifer Graves', 'Antitrust', 'Strategy', 'Public Finance and Development Economics', ' Applied Microeconomics', 'Public Economics (secondary: Labor Economics) ', 'Financial frictions and growth', 'Health Economics', 'Multinational firms', 'Agricultural Finance', 'Health', 'Agricultural Sustainability', 'Urban Economics and Real Estate', 'information economics', 'Contract Theory', ' International Macroeconomics', 'Asset pricing', 'Information Design', 'Urban/Spatial Economics', 'Panel Data', 'Environment and Macroeconomics', ' Finance', 'FinTech', '\\nPublic Economics', 'Financial econometrics', 'CS-Econ', 'International Macroeconomics', 'Health Policy', 'Regulatory and Competition Economics', 'Financial Econometrics', ' Public Economics', 'Bayesian Econometrics', 'Environmental Economics', 'Education economics', 'Economics of Migrations', 'Information and Gender Economics', 'Macroeconomics/Monetary economics', 'Emmanuel Lartey', 'Microeconomics Theory', 'Behavioral & Experimental', 'Transport Economics', 'Food Marketing', 'Public Economic', ' Industrial Organization', 'Applied Econometrics;Macroeconomics', 'Industrial Organization', 'information desig', 'Macro-Finance', 'Urban /Spatial Economics', 'Macro Labor', 'Economic Development', 'International Trade', 'Labour', 'International Macroeconomics & Development', 'Financial Economics', 'Applied Time Series', 'Macroeconomic Policy', 'Corporate Finance', 'Macreconomics', 'Economic Theory', 'Economic Demography', 'Finance', 'Environmental Justice', 'Learning Games', 'Labor Economics and Household Finance', 'Economic Inequality', 'Monetary Policy and Econometrics', 'International Economics', 'Game Theory,\\xa0Applied Microeconomics', 'Financial Markets', 'Comparative Economics', 'Applied Theory', 'Spatial Economics', 'Organizational Economics', 'Economics of education', ' Labor economics', 'Economics of Poverty', 'Bayesian Econometrics,Time Series Econometrics', 'Banking', 'Macroeconomic growth', 'Applied Microeconomics', 'Digital economics', 'Empirical Microeconomics', 'Credit Markets and their Regulation', 'Financial Market Desig', 'Technological Change', 'Financial Market', 'Economic Growth', 'Consumer Demand', 'Applied microeconomics', 'Experimental Economic', 'Empirical Political Economy', 'Innovation Economics', 'Taxation', 'Development Economics', 'Technological change', 'Econometric Theory ', ' Macroeconomics', 'Economics of Religio', 'computational economics'}\n"
     ]
    }
   ],
   "source": [
    "unique_fields = get_unique_from_column(data['Field of Study'])\n",
    "print(unique_fields)"
   ]
  },
  {
   "cell_type": "code",
   "execution_count": 49,
   "metadata": {},
   "outputs": [
    {
     "name": "stderr",
     "output_type": "stream",
     "text": [
      "C:\\Users\\15the\\AppData\\Local\\Packages\\PythonSoftwareFoundation.Python.3.7_qbz5n2kfra8p0\\LocalCache\\local-packages\\Python37\\site-packages\\pandas\\core\\strings.py:1843: UserWarning: This pattern has match groups. To actually get the groups, use str.extract.\n",
      "  return func(self, *args, **kwargs)\n"
     ]
    }
   ],
   "source": [
    "df_list = []\n",
    "bin = dict()\n",
    "for field in unique_fields:\n",
    "    df = data.loc[data['Field of Study'].str.contains(field) == True]\n",
    "    bin[field] = df\n",
    "    df_list.append(bin[field])"
   ]
  },
  {
   "cell_type": "code",
   "execution_count": 79,
   "metadata": {},
   "outputs": [
    {
     "name": "stdout",
     "output_type": "stream",
     "text": [
      "C:\\Users\\15the\\OneDrive - California Institute of Technology\\Selenium_JMC\\Binning\\Bins\n"
     ]
    }
   ],
   "source": [
    "#change directory to right folder\n",
    "os.chdir(r\"C:\\Users\\15the\\OneDrive - California Institute of Technology\\Selenium_JMC\\Binning\\Bins\")\n",
    "print(os.getcwd())"
   ]
  },
  {
   "cell_type": "code",
   "execution_count": 82,
   "metadata": {},
   "outputs": [
    {
     "name": "stdout",
     "output_type": "stream",
     "text": [
      "This didn't save Labor/Population\n",
      "This didn't save International macro/finance\n",
      "This didn't save Public Economics\n",
      "Household Finance\n",
      "This didn't save Public/ Labor Economics\n",
      "This didn't save Experimental/Behavioral Economics\n",
      "This didn't save \n",
      "Finance\n",
      "This didn't save Geography/ Trade\n",
      "This didn't save Environmental Economics\n",
      "Agricultural and Resource Economics\n",
      "This didn't save Behavioral/Experimental Economics\n",
      "This didn't save Behavioral/Experimental\n",
      "This didn't save Development/ Macro\n",
      "This didn't save Applied Econometrics\n",
      "\n",
      "This didn't save Urban/Spatial Economics\n",
      "This didn't save \n",
      "Public Economics\n",
      "This didn't save Macroeconomics/Monetary economics\n",
      "This didn't save Urban /Spatial Economics\n"
     ]
    }
   ],
   "source": [
    "for f in bin:\n",
    "    try:\n",
    "        bin[f].to_csv(f+\" bin\"+\".csv\")\n",
    "    except:\n",
    "        print(f\"This didn't save {f}\")"
   ]
  },
  {
   "cell_type": "code",
   "execution_count": 78,
   "metadata": {},
   "outputs": [],
   "source": []
  }
 ],
 "metadata": {
  "kernelspec": {
   "display_name": "Python 3",
   "language": "python",
   "name": "python3"
  },
  "language_info": {
   "name": "python",
   "version": "3.7.9"
  },
  "orig_nbformat": 4,
  "vscode": {
   "interpreter": {
    "hash": "e95925bc32d16195b7546d2a41aa286c3fe248eed5fbe43d4bc68d319cbc29dc"
   }
  }
 },
 "nbformat": 4,
 "nbformat_minor": 2
}
